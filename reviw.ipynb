{
 "cells": [
  {
   "cell_type": "markdown",
   "metadata": {},
   "source": [
    "# <font color='blue'> TENANG KALEM REPO INI SEBENARNYA CUMA BUAT MAIN-MAIN GA SERIUS 😃"
   ]
  },
  {
   "cell_type": "code",
   "execution_count": 3,
   "metadata": {},
   "outputs": [],
   "source": [
    "# pertama dulu nih mana aja sih package yg sring banget kita pake\n",
    "\n",
    "import numpy as np\n",
    "import pandas as pd\n",
    "\n",
    "from sklearn.model_selection import train_test_split, GridSearchCV, RandomizedSearchCV\n",
    "from sklearn.preprocessing import StandardScaler, OneHotEncoder #umumnya yg namanya preprocessor dia itu emang isinya cuma scalling dan encoding aja\n",
    "from sklearn.pipeline import Pipeline\n",
    "from sklearn.compose import ColumnTransformer"
   ]
  },
  {
   "cell_type": "markdown",
   "metadata": {},
   "source": [
    "### Trus lagi ni tmen-tmen kalo misalnya mau import model ya gampang aja inget2nya 🤗"
   ]
  },
  {
   "cell_type": "code",
   "execution_count": 4,
   "metadata": {},
   "outputs": [],
   "source": [
    "# misal casenya dia adalah rf kan itu trmasuk ensemble nah ensemble itu juga lumayan banyak\n",
    "from sklearn.ensemble import RandomForestClassifier, GradientBoostingRegressor\n",
    "#  trus kalo misalnya yg linear juga \n",
    "from sklearn.linear_model import LinearRegression, LogisticRegression\n",
    "# svm nih agak lain sorang dienye\n",
    "from sklearn.svm import SVR\n",
    "# oiya klupaan biasanya juga kita itu make metrics nah utk importnya juga gampang inget2 ada cr sm cm\n",
    "from sklearn.metrics import classification_report, confusion_matrix"
   ]
  },
  {
   "cell_type": "code",
   "execution_count": null,
   "metadata": {},
   "outputs": [],
   "source": [
    "# kalo di deep learning ini agak sdrhana pas awalnya package cuma si torch\n",
    "import torch\n",
    "from torch import nn, optim\n",
    "\n",
    "device = torch.device('cuda' if torch.cuda.is_available() else 'cpu')\n",
    "device"
   ]
  }
 ],
 "metadata": {
  "kernelspec": {
   "display_name": "Python 3.9.1 64-bit",
   "language": "python",
   "name": "python3"
  },
  "language_info": {
   "codemirror_mode": {
    "name": "ipython",
    "version": 3
   },
   "file_extension": ".py",
   "mimetype": "text/x-python",
   "name": "python",
   "nbconvert_exporter": "python",
   "pygments_lexer": "ipython3",
   "version": "3.9.1"
  },
  "orig_nbformat": 4,
  "vscode": {
   "interpreter": {
    "hash": "f6246b25e200e4c5124e3e61789ac81350562f0761bbcf92ad9e48654207659c"
   }
  }
 },
 "nbformat": 4,
 "nbformat_minor": 2
}
