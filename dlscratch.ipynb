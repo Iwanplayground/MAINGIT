{
 "cells": [
  {
   "cell_type": "markdown",
   "metadata": {},
   "source": [
    "# IMPORT PACKGAE AND DSETDLOADER 😕"
   ]
  },
  {
   "cell_type": "code",
   "execution_count": 2,
   "metadata": {},
   "outputs": [],
   "source": [
    "import torch\n",
    "from torch import nn, optim"
   ]
  },
  {
   "cell_type": "markdown",
   "metadata": {},
   "source": [
    "### Trus lagi biasanya kita itu ngelakuin dataset&dataloader"
   ]
  },
  {
   "cell_type": "code",
   "execution_count": 3,
   "metadata": {},
   "outputs": [
    {
     "name": "stdout",
     "output_type": "stream",
     "text": [
      "Collecting torchvision\n",
      "  Downloading torchvision-0.13.0-cp39-cp39-win_amd64.whl (1.1 MB)\n",
      "     ---------------------------------------- 1.1/1.1 MB 304.3 kB/s eta 0:00:00\n",
      "Requirement already satisfied: typing-extensions in c:\\users\\hp\\appdata\\local\\programs\\python\\python39\\lib\\site-packages (from torchvision) (4.3.0)\n",
      "Requirement already satisfied: requests in c:\\users\\hp\\appdata\\local\\programs\\python\\python39\\lib\\site-packages (from torchvision) (2.27.1)\n",
      "Requirement already satisfied: torch==1.12.0 in c:\\users\\hp\\appdata\\local\\programs\\python\\python39\\lib\\site-packages (from torchvision) (1.12.0)\n",
      "Requirement already satisfied: pillow!=8.3.*,>=5.3.0 in c:\\users\\hp\\appdata\\local\\programs\\python\\python39\\lib\\site-packages (from torchvision) (9.0.1)\n",
      "Requirement already satisfied: numpy in c:\\users\\hp\\appdata\\local\\programs\\python\\python39\\lib\\site-packages (from torchvision) (1.22.3)\n",
      "Requirement already satisfied: idna<4,>=2.5 in c:\\users\\hp\\appdata\\local\\programs\\python\\python39\\lib\\site-packages (from requests->torchvision) (3.3)\n",
      "Requirement already satisfied: urllib3<1.27,>=1.21.1 in c:\\users\\hp\\appdata\\local\\programs\\python\\python39\\lib\\site-packages (from requests->torchvision) (1.26.9)\n",
      "Requirement already satisfied: charset-normalizer~=2.0.0 in c:\\users\\hp\\appdata\\local\\programs\\python\\python39\\lib\\site-packages (from requests->torchvision) (2.0.12)\n",
      "Requirement already satisfied: certifi>=2017.4.17 in c:\\users\\hp\\appdata\\local\\programs\\python\\python39\\lib\\site-packages (from requests->torchvision) (2022.5.18.1)\n",
      "Installing collected packages: torchvision\n",
      "Successfully installed torchvision-0.13.0\n",
      "Note: you may need to restart the kernel to use updated packages.\n"
     ]
    },
    {
     "name": "stderr",
     "output_type": "stream",
     "text": [
      "WARNING: You are using pip version 22.0.4; however, version 22.2.2 is available.\n",
      "You should consider upgrading via the 'c:\\Users\\HP\\AppData\\Local\\Programs\\Python\\Python39\\python.exe -m pip install --upgrade pip' command.\n"
     ]
    }
   ],
   "source": [
    "%pip install torchvision"
   ]
  },
  {
   "cell_type": "code",
   "execution_count": 4,
   "metadata": {},
   "outputs": [],
   "source": [
    "from torchvision import datasets, transforms\n",
    "from torch.utils.data import DataLoader"
   ]
  },
  {
   "cell_type": "markdown",
   "metadata": {},
   "source": [
    "### Slepasnya kita buat pipeline utk data image biasanya"
   ]
  },
  {
   "cell_type": "code",
   "execution_count": null,
   "metadata": {},
   "outputs": [],
   "source": [
    "# sderhana biasanya di hitam-putihin dulu lalu ke tensor\n",
    "\n",
    "transform = transforms.Compose([\n",
    "                transforms.Grayscale(),\n",
    "                transforms.ToTensor()\n",
    "                ])"
   ]
  },
  {
   "cell_type": "code",
   "execution_count": 7,
   "metadata": {},
   "outputs": [
    {
     "ename": "NameError",
     "evalue": "name 'transform' is not defined",
     "output_type": "error",
     "traceback": [
      "\u001b[1;31m---------------------------------------------------------------------------\u001b[0m",
      "\u001b[1;31mNameError\u001b[0m                                 Traceback (most recent call last)",
      "\u001b[1;32md:\\mainGit\\dlscratch.ipynb Cell 7\u001b[0m in \u001b[0;36m<cell line: 2>\u001b[1;34m()\u001b[0m\n\u001b[0;32m      <a href='vscode-notebook-cell:/d%3A/mainGit/dlscratch.ipynb#ch0000009?line=0'>1</a>\u001b[0m bs \u001b[39m=\u001b[39m \u001b[39m128\u001b[39m\n\u001b[1;32m----> <a href='vscode-notebook-cell:/d%3A/mainGit/dlscratch.ipynb#ch0000009?line=1'>2</a>\u001b[0m train_set \u001b[39m=\u001b[39m datasets\u001b[39m.\u001b[39mImageFolder(\u001b[39mr\u001b[39m\u001b[39m'\u001b[39m\u001b[39mD:\u001b[39m\u001b[39m\\\u001b[39m\u001b[39mDsains project\u001b[39m\u001b[39m\\\u001b[39m\u001b[39mdatadeep\u001b[39m\u001b[39m\\\u001b[39m\u001b[39mtrain\u001b[39m\u001b[39m'\u001b[39m, transform \u001b[39m=\u001b[39m transform)\n\u001b[0;32m      <a href='vscode-notebook-cell:/d%3A/mainGit/dlscratch.ipynb#ch0000009?line=2'>3</a>\u001b[0m trainloader \u001b[39m=\u001b[39m DataLoader(train_set, batch_size \u001b[39m=\u001b[39m bs, shuffle\u001b[39m=\u001b[39m\u001b[39mTrue\u001b[39;00m, num_workers \u001b[39m=\u001b[39m \u001b[39m2\u001b[39m)\n\u001b[0;32m      <a href='vscode-notebook-cell:/d%3A/mainGit/dlscratch.ipynb#ch0000009?line=4'>5</a>\u001b[0m test_set \u001b[39m=\u001b[39m datasets\u001b[39m.\u001b[39mImageFolder(\u001b[39mr\u001b[39m\u001b[39m'\u001b[39m\u001b[39mD:\u001b[39m\u001b[39m\\\u001b[39m\u001b[39mDsains project\u001b[39m\u001b[39m\\\u001b[39m\u001b[39mdatadeep\u001b[39m\u001b[39m\\\u001b[39m\u001b[39mtest\u001b[39m\u001b[39m'\u001b[39m, transform \u001b[39m=\u001b[39m transform)\n",
      "\u001b[1;31mNameError\u001b[0m: name 'transform' is not defined"
     ]
    }
   ],
   "source": [
    "bs = 128\n",
    "train_set = datasets.ImageFolder(r'D:\\Dsains project\\datadeep\\train', transform = transform)\n",
    "trainloader = DataLoader(train_set, batch_size = bs, shuffle=True, num_workers = 2)\n",
    "\n",
    "test_set = datasets.ImageFolder(r'D:\\Dsains project\\datadeep\\test', transform = transform)\n",
    "testloader = DataLoader(test_set, batch_size = bs, shuffle=True)"
   ]
  },
  {
   "cell_type": "code",
   "execution_count": null,
   "metadata": {},
   "outputs": [],
   "source": [
    "# berikutnya utk features dan targetnya\n",
    "features, target = next(iter(trainloader))\n",
    "features.shape"
   ]
  },
  {
   "cell_type": "markdown",
   "metadata": {},
   "source": [
    "### berikutnya utk liat masing-masing class dari train setnya spt ini"
   ]
  },
  {
   "cell_type": "code",
   "execution_count": null,
   "metadata": {},
   "outputs": [],
   "source": [
    "label2cat = train_set.classes\n",
    "label2cat"
   ]
  },
  {
   "cell_type": "markdown",
   "metadata": {},
   "source": [
    "# TRAINGIN PREPARATION (MCOC) 😐"
   ]
  },
  {
   "cell_type": "code",
   "execution_count": null,
   "metadata": {},
   "outputs": [],
   "source": [
    "model = FashionClassifier(config.input_size, config.n1, config.n2,config.output_size,config.dropout)\n",
    "criterion = nn.NLLLoss()\n",
    "optimizer = optim.AdamW(model.parameters(), lr=0.001)\n",
    "callback = Callback(model,config, outdir='model')"
   ]
  },
  {
   "cell_type": "markdown",
   "metadata": {},
   "source": [
    "# Finally, akirnya kita train 😊"
   ]
  },
  {
   "cell_type": "code",
   "execution_count": 18,
   "metadata": {},
   "outputs": [
    {
     "ename": "ModuleNotFoundError",
     "evalue": "No module named 'tqdm'",
     "output_type": "error",
     "traceback": [
      "\u001b[1;31m---------------------------------------------------------------------------\u001b[0m",
      "\u001b[1;31mModuleNotFoundError\u001b[0m                       Traceback (most recent call last)",
      "\u001b[1;32md:\\mainGit\\dlscratch.ipynb Cell 15\u001b[0m in \u001b[0;36m<cell line: 2>\u001b[1;34m()\u001b[0m\n\u001b[0;32m      <a href='vscode-notebook-cell:/d%3A/mainGit/dlscratch.ipynb#ch0000023?line=0'>1</a>\u001b[0m \u001b[39m# jangan lupoa import si takadum\u001b[39;00m\n\u001b[1;32m----> <a href='vscode-notebook-cell:/d%3A/mainGit/dlscratch.ipynb#ch0000023?line=1'>2</a>\u001b[0m \u001b[39mfrom\u001b[39;00m \u001b[39mtqdm\u001b[39;00m\u001b[39m.\u001b[39;00m\u001b[39mauto\u001b[39;00m \u001b[39mimport\u001b[39;00m tqdm\n",
      "\u001b[1;31mModuleNotFoundError\u001b[0m: No module named 'tqdm'"
     ]
    }
   ],
   "source": [
    "# jangan lupoa import si takadum\n",
    "from tqdm.auto import tqdm"
   ]
  },
  {
   "cell_type": "markdown",
   "metadata": {},
   "source": [
    "## yg error2 itu tandanya blm kita import packagenya di vs code maklum mabro kita pakenya jupyter 🌷"
   ]
  },
  {
   "cell_type": "code",
   "execution_count": null,
   "metadata": {},
   "outputs": [],
   "source": [
    "def loop_fn(mode,dataset,dataloader,model,criterion,optimizer,device):\n",
    "    '''\n",
    "    INI KITA MAU BUAT FUNGSI dataset,dataloader dkk bersama dengan MCO kita jadiin satu, sklian bisa ngitungin accuracy\n",
    "    '''\n",
    "    if mode == 'train':\n",
    "        model.train()\n",
    "    elif mode == 'test':\n",
    "        model.eval()\n",
    "    cost = correct = 0\n",
    "    for feature, target in tqdm(dataloader,desc=mode.title()):\n",
    "        feature, target = feature.to(device), target.to(device)\n",
    "        output = model(feature)\n",
    "        loss = criterion(output, target)\n",
    "        \n",
    "        \n",
    "    if mode == 'Train':\n",
    "        loss.backward()\n",
    "        optimizer.step()\n",
    "        optimizer.zero_grad()\n",
    "        \n",
    "        cost += loss.item() * feature.shape[0]\n",
    "        correct += (output.argmax(1) == target).sum().item()\n",
    "        \n",
    "    cost = cost/len(dataset)\n",
    "    acc = correct/ len(dataset)\n",
    "    return cost, acc "
   ]
  },
  {
   "cell_type": "code",
   "execution_count": null,
   "metadata": {},
   "outputs": [],
   "source": [
    "# Melakukan callback\n",
    "\n"
   ]
  }
 ],
 "metadata": {
  "kernelspec": {
   "display_name": "Python 3.9.1 64-bit",
   "language": "python",
   "name": "python3"
  },
  "language_info": {
   "codemirror_mode": {
    "name": "ipython",
    "version": 3
   },
   "file_extension": ".py",
   "mimetype": "text/x-python",
   "name": "python",
   "nbconvert_exporter": "python",
   "pygments_lexer": "ipython3",
   "version": "3.9.1"
  },
  "orig_nbformat": 4,
  "vscode": {
   "interpreter": {
    "hash": "f6246b25e200e4c5124e3e61789ac81350562f0761bbcf92ad9e48654207659c"
   }
  }
 },
 "nbformat": 4,
 "nbformat_minor": 2
}
